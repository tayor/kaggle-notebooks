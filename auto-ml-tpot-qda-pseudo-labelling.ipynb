{
 "cells": [
  {
   "cell_type": "markdown",
   "metadata": {},
   "source": [
    "# Apply Pseudo Labelling to best TPOT Model in the Instant Gratification Competition\n",
    "Code of this notebook is borrowed from  [Pseudo Labeling - QDA - [0.969]](https://www.kaggle.com/cdeotte/pseudo-labeling-qda-0-969). Thanks to Chris for his work. We search the best model for the first 'wheezy-copper-turtle-magic' chunck of train dataset then apply it to the whole problem. Only a small number of iterations is performed to demonstrate the workflow. \n",
    "## Load Data"
   ]
  },
  {
   "cell_type": "code",
   "execution_count": 1,
   "metadata": {},
   "outputs": [],
   "source": [
    "import numpy as np, pandas as pd, os\n",
    "from sklearn.model_selection import StratifiedKFold\n",
    "from sklearn.feature_selection import VarianceThreshold\n",
    "from sklearn.metrics import roc_auc_score\n",
    "from tpot import TPOTClassifier\n",
    "from tqdm import tqdm \n",
    "from warnings import simplefilter\n",
    "from sklearn.discriminant_analysis import QuadraticDiscriminantAnalysis\n",
    "\n",
    "\n",
    "simplefilter(action='ignore', category=FutureWarning)\n",
    "\n",
    "\n",
    "train = pd.read_csv('../input/train.csv')\n",
    "test = pd.read_csv('../input/test.csv')"
   ]
  },
  {
   "cell_type": "markdown",
   "metadata": {},
   "source": [
    "## Step 1: Find the best TPOT Model"
   ]
  },
  {
   "cell_type": "code",
   "execution_count": 2,
   "metadata": {},
   "outputs": [
    {
     "data": {
      "application/vnd.jupyter.widget-view+json": {
       "model_id": "238eae94140a4adab23c7872bec5ae81",
       "version_major": 2,
       "version_minor": 0
      },
      "text/plain": [
       "HBox(children=(IntProgress(value=0, description='Optimization Progress', max=1530, style=ProgressStyle(descrip…"
      ]
     },
     "metadata": {},
     "output_type": "display_data"
    },
    {
     "name": "stdout",
     "output_type": "stream",
     "text": [
      "Generation 1 - Current best internal CV score: 0.8730429851119507\n",
      "Generation 2 - Current best internal CV score: 0.9112851654518321\n",
      "Generation 3 - Current best internal CV score: 0.9112851654518321\n",
      "Generation 4 - Current best internal CV score: 0.9112851654518321\n",
      "Generation 5 - Current best internal CV score: 0.9112851654518321\n",
      "Generation 6 - Current best internal CV score: 0.9112851654518321\n",
      "Generation 7 - Current best internal CV score: 0.9112851654518321\n",
      "Generation 8 - Current best internal CV score: 0.9112851654518321\n",
      "Generation 9 - Current best internal CV score: 0.9221626181396297\n",
      "Generation 10 - Current best internal CV score: 0.9221626181396297\n",
      "Generation 11 - Current best internal CV score: 0.9238439880681261\n",
      "Generation 12 - Current best internal CV score: 0.936236788966674\n",
      "Generation 13 - Current best internal CV score: 0.936236788966674\n",
      "Generation 14 - Current best internal CV score: 0.936236788966674\n",
      "Generation 15 - Current best internal CV score: 0.936236788966674\n",
      "Generation 16 - Current best internal CV score: 0.936236788966674\n",
      "Generation 17 - Current best internal CV score: 0.936236788966674\n",
      "Generation 18 - Current best internal CV score: 0.936236788966674\n",
      "Generation 19 - Current best internal CV score: 0.9377727530026382\n",
      "Generation 20 - Current best internal CV score: 0.9377727530026382\n",
      "Generation 21 - Current best internal CV score: 0.9377727530026382\n",
      "Generation 22 - Current best internal CV score: 0.9402976706137626\n",
      "Generation 23 - Current best internal CV score: 0.9402976706137626\n",
      "Generation 24 - Current best internal CV score: 0.9492070137185079\n",
      "Generation 25 - Current best internal CV score: 0.9492070137185079\n",
      "Generation 26 - Current best internal CV score: 0.9492070137185079\n",
      "Generation 27 - Current best internal CV score: 0.9492070137185079\n",
      "Generation 28 - Current best internal CV score: 0.9493450515002239\n",
      "Generation 29 - Current best internal CV score: 0.9538757326113648\n",
      "Generation 30 - Current best internal CV score: 0.9558006063753189\n",
      "Generation 31 - Current best internal CV score: 0.9558006063753189\n",
      "Generation 32 - Current best internal CV score: 0.9558006063753189\n",
      "Generation 33 - Current best internal CV score: 0.9558006063753189\n",
      "Generation 34 - Current best internal CV score: 0.9558006063753189\n",
      "Generation 35 - Current best internal CV score: 0.9558006063753189\n",
      "Generation 36 - Current best internal CV score: 0.9558006063753189\n",
      "Generation 37 - Current best internal CV score: 0.9558006063753189\n",
      "Generation 38 - Current best internal CV score: 0.9558006063753189\n",
      "Generation 39 - Current best internal CV score: 0.9558006063753189\n",
      "Generation 40 - Current best internal CV score: 0.9581491252468264\n",
      "Generation 41 - Current best internal CV score: 0.9581491252468264\n",
      "Generation 42 - Current best internal CV score: 0.9581491252468264\n",
      "Generation 43 - Current best internal CV score: 0.9581491252468264\n",
      "Generation 44 - Current best internal CV score: 0.9581491252468264\n",
      "Generation 45 - Current best internal CV score: 0.9581491252468264\n",
      "Generation 46 - Current best internal CV score: 0.9581491252468264\n",
      "Generation 47 - Current best internal CV score: 0.9581491252468264\n",
      "Generation 48 - Current best internal CV score: 0.9581491252468264\n",
      "Generation 49 - Current best internal CV score: 0.9581491252468264\n",
      "Generation 50 - Current best internal CV score: 0.9581491252468264\n",
      "\r\n",
      "Best pipeline: KNeighborsClassifier(Normalizer(PCA(FastICA(Normalizer(input_matrix, norm=l1), tol=0.8500000000000001), iterated_power=6, svd_solver=randomized), norm=l1), n_neighbors=10, p=2, weights=distance)\n",
      "CPU times: user 1min 33s, sys: 9.16 s, total: 1min 42s\n",
      "Wall time: 13min 12s\n"
     ]
    }
   ],
   "source": [
    "%%time\n",
    "cols = [c for c in train.columns if c not in ['id', 'target']]\n",
    "cols.remove('wheezy-copper-turtle-magic')\n",
    "oof = np.zeros(len(train))\n",
    "preds = np.zeros(len(test))\n",
    "\n",
    "# ONLY TRAIN WITH DATA WHERE WHEEZY EQUALS 0\n",
    "# Change i to choose another group of train data\n",
    "i=0\n",
    "train2 = train[train['wheezy-copper-turtle-magic']==i]\n",
    "test2 = test[test['wheezy-copper-turtle-magic']==i]\n",
    "idx1 = train2.index; idx2 = test2.index\n",
    "train2.reset_index(drop=True,inplace=True)\n",
    "\n",
    "# FEATURE SELECTION (USE APPROX 40 OF 255 FEATURES)\n",
    "sel = VarianceThreshold(threshold=1.5).fit(train2[cols])\n",
    "train3 = sel.transform(train2[cols])\n",
    "test3 = sel.transform(test2[cols])\n",
    "  \n",
    "#Change generations and population_size to find better pipelines\n",
    "# Visit http://epistasislab.github.io/tpot/api/ for the API documentation\n",
    "tpot = TPOTClassifier(generations=50, population_size=30, verbosity=2, scoring='roc_auc', cv=3, max_eval_time_mins=1, random_state=42, n_jobs=-1)\n",
    "tpot.fit(train3,  train2['target'])"
   ]
  },
  {
   "cell_type": "markdown",
   "metadata": {},
   "source": [
    "## Step 2 - Fit the TPOT model and predict on test"
   ]
  },
  {
   "cell_type": "code",
   "execution_count": 3,
   "metadata": {},
   "outputs": [
    {
     "name": "stderr",
     "output_type": "stream",
     "text": [
      "100%|██████████| 512/512 [13:45<00:00,  1.56s/it]"
     ]
    },
    {
     "name": "stdout",
     "output_type": "stream",
     "text": [
      "TPOT scores CV = 0.95831\n",
      "CPU times: user 19min 45s, sys: 34min 44s, total: 54min 29s\n",
      "Wall time: 13min 45s\n"
     ]
    },
    {
     "name": "stderr",
     "output_type": "stream",
     "text": [
      "\n"
     ]
    }
   ],
   "source": [
    "%%time\n",
    "# INITIALIZE VARIABLES\n",
    "cols = [c for c in train.columns if c not in ['id', 'target']]\n",
    "cols.remove('wheezy-copper-turtle-magic')\n",
    "oof = np.zeros(len(train))\n",
    "preds = np.zeros(len(test))\n",
    "\n",
    "# BUILD 512 SEPARATE MODELS\n",
    "for i in tqdm(range(512)):\n",
    "    # ONLY TRAIN WITH DATA WHERE WHEEZY EQUALS I\n",
    "    train2 = train[train['wheezy-copper-turtle-magic']==i]\n",
    "    test2 = test[test['wheezy-copper-turtle-magic']==i]\n",
    "    idx1 = train2.index; idx2 = test2.index\n",
    "    train2.reset_index(drop=True,inplace=True)\n",
    "    \n",
    "    # FEATURE SELECTION (USE APPROX 40 OF 255 FEATURES)\n",
    "    sel = VarianceThreshold(threshold=1.5).fit(train2[cols])\n",
    "    train3 = sel.transform(train2[cols])\n",
    "    test3 = sel.transform(test2[cols])\n",
    "    \n",
    "    # STRATIFIED K-FOLD\n",
    "    skf = StratifiedKFold(n_splits=11, random_state=42, shuffle=True)\n",
    "    for train_index, test_index in skf.split(train3, train2['target']):\n",
    "        \n",
    "        # MODEL AND PREDICT WITH TPOT best fitted pipeline\n",
    "        tpot.fitted_pipeline_.fit(train3[train_index,:],train2.loc[train_index]['target'])\n",
    "        oof[idx1[test_index]] = tpot.fitted_pipeline_.predict_proba(train3[test_index,:])[:,1]\n",
    "        preds[idx2] += tpot.fitted_pipeline_.predict_proba(test3)[:,1] / skf.n_splits\n",
    "       \n",
    "        \n",
    "# PRINT CV AUC\n",
    "auc = roc_auc_score(train['target'],oof)\n",
    "print('TPOT scores CV =',round(auc,5))"
   ]
  },
  {
   "cell_type": "markdown",
   "metadata": {},
   "source": [
    "## Step 3 & 4 - Add pseudo label data and build QDA model "
   ]
  },
  {
   "cell_type": "code",
   "execution_count": 4,
   "metadata": {},
   "outputs": [
    {
     "name": "stderr",
     "output_type": "stream",
     "text": [
      "100%|██████████| 512/512 [00:58<00:00,  8.81it/s]\n"
     ]
    },
    {
     "name": "stdout",
     "output_type": "stream",
     "text": [
      "QDA scores CV = 0.96567\n",
      "CPU times: user 1min 21s, sys: 2min 27s, total: 3min 49s\n",
      "Wall time: 58.3 s\n"
     ]
    }
   ],
   "source": [
    "%%time\n",
    "# INITIALIZE VARIABLES\n",
    "test['target'] = preds\n",
    "oof = np.zeros(len(train))\n",
    "preds = np.zeros(len(test))\n",
    "\n",
    "# BUILD 512 SEPARATE MODELS\n",
    "for k in tqdm(range(512)):\n",
    "    # ONLY TRAIN WITH DATA WHERE WHEEZY EQUALS I\n",
    "    train2 = train[train['wheezy-copper-turtle-magic']==k] \n",
    "    train2p = train2.copy(); idx1 = train2.index \n",
    "    test2 = test[test['wheezy-copper-turtle-magic']==k]\n",
    "    \n",
    "    # ADD PSEUDO LABELED DATA\n",
    "    test2p = test2[ (test2['target']<=0.01) | (test2['target']>=0.99) ].copy()\n",
    "    test2p.loc[ test2p['target']>=0.5, 'target' ] = 1\n",
    "    test2p.loc[ test2p['target']<0.5, 'target' ] = 0 \n",
    "    train2p = pd.concat([train2p,test2p],axis=0)\n",
    "    train2p.reset_index(drop=True,inplace=True)\n",
    "    \n",
    "    # FEATURE SELECTION (USE APPROX 40 OF 255 FEATURES)\n",
    "    sel = VarianceThreshold(threshold=1.5).fit(train2p[cols])     \n",
    "    train3p = sel.transform(train2p[cols])\n",
    "    train3 = sel.transform(train2[cols])\n",
    "    test3 = sel.transform(test2[cols])\n",
    "        \n",
    "    # STRATIFIED K FOLD\n",
    "    skf = StratifiedKFold(n_splits=11, random_state=42, shuffle=True)\n",
    "    for train_index, test_index in skf.split(train3p, train2p['target']):\n",
    "        test_index3 = test_index[ test_index<len(train3) ] # ignore pseudo in oof\n",
    "        \n",
    "        # MODEL AND PREDICT WITH QDA\n",
    "        clf = QuadraticDiscriminantAnalysis(reg_param=0.5)\n",
    "        clf.fit(train3p[train_index,:],train2p.loc[train_index]['target'])\n",
    "        oof[idx1[test_index3]] = clf.predict_proba(train3[test_index3,:])[:,1]\n",
    "        preds[test2.index] += clf.predict_proba(test3)[:,1] / skf.n_splits\n",
    "               \n",
    "# PRINT CV AUC\n",
    "auc = roc_auc_score(train['target'],oof)\n",
    "print('QDA scores CV =',round(auc,5))"
   ]
  },
  {
   "cell_type": "markdown",
   "metadata": {},
   "source": [
    "## Submit Predictions"
   ]
  },
  {
   "cell_type": "code",
   "execution_count": 5,
   "metadata": {},
   "outputs": [
    {
     "data": {
      "image/png": "[encoded data removed]",
      "text/plain": [
       "<Figure size 432x288 with 1 Axes>"
      ]
     },
     "metadata": {},
     "output_type": "display_data"
    }
   ],
   "source": [
    "sub = pd.read_csv('../input/sample_submission.csv')\n",
    "sub['target'] = preds\n",
    "sub.to_csv('submission.csv',index=False)\n",
    "\n",
    "import matplotlib.pyplot as plt\n",
    "plt.hist(preds,bins=100)\n",
    "plt.title('Final Test.csv predictions')\n",
    "plt.show()"
   ]
  }
 ],
 "metadata": {
  "kernelspec": {
   "display_name": "Python 3",
   "language": "python",
   "name": "python3"
  },
  "language_info": {
   "codemirror_mode": {
    "name": "ipython",
    "version": 3
   },
   "file_extension": ".py",
   "mimetype": "text/x-python",
   "name": "python",
   "nbconvert_exporter": "python",
   "pygments_lexer": "ipython3",
   "version": "3.6.4"
  }
 },
 "nbformat": 4,
 "nbformat_minor": 1
}
